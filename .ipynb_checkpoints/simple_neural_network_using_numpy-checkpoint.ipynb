{
 "cells": [
  {
   "cell_type": "code",
   "execution_count": 2,
   "id": "58ae16ee",
   "metadata": {},
   "outputs": [
    {
     "name": "stdout",
     "output_type": "stream",
     "text": [
      "importing Jupyter notebook from load_coffee_data.ipynb\n",
      "importing Jupyter notebook from sigmoid_using_numpy.ipynb\n"
     ]
    }
   ],
   "source": [
    "import numpy as np\n",
    "import import_ipynb\n",
    "from load_coffee_data import load_data\n",
    "from sigmoid_using_numpy import sigmoid\n",
    "from tensorflow.keras.layers import Normalization"
   ]
  },
  {
   "cell_type": "code",
   "execution_count": 3,
   "id": "b4c142b4",
   "metadata": {},
   "outputs": [],
   "source": [
    "X, Y = load_data()"
   ]
  },
  {
   "cell_type": "markdown",
   "id": "42359783",
   "metadata": {},
   "source": [
    "### Normalizing data Normalization layer in keras"
   ]
  },
  {
   "cell_type": "code",
   "execution_count": 4,
   "id": "0f6b447d",
   "metadata": {},
   "outputs": [],
   "source": [
    "norm_layer = Normalization(axis=-1)\n",
    "norm_layer.adapt(X) # leanrs mean and variance\n",
    "X_norm = norm_layer(X)"
   ]
  },
  {
   "cell_type": "markdown",
   "id": "d28206ee",
   "metadata": {},
   "source": [
    "### Defining neuron/units of type dense"
   ]
  },
  {
   "cell_type": "code",
   "execution_count": null,
   "id": "271473ea",
   "metadata": {},
   "outputs": [],
   "source": []
  },
  {
   "cell_type": "code",
   "execution_count": 5,
   "id": "f40eac28",
   "metadata": {},
   "outputs": [],
   "source": [
    "def dense(xnorm_in,W,b):\n",
    "    units = W.shape[1]                # number of neurons \n",
    "    a_out =  np.zeros(units)         # stores output of the layer\n",
    "    for j in range(units):\n",
    "        z = np.dot(W[:,j],xnorm_in) + b[j]      # w is a matrix of all parameter w of the model \n",
    "        a_out[j] = sigmoid(z)  \n",
    "    return a_out"
   ]
  },
  {
   "cell_type": "markdown",
   "id": "bea79e40",
   "metadata": {},
   "source": [
    "### Defining layer of type sequential"
   ]
  },
  {
   "cell_type": "code",
   "execution_count": 6,
   "id": "430ecd96",
   "metadata": {},
   "outputs": [],
   "source": [
    "def sequential(xnorm_in,w1,w2,b1,b2):\n",
    "    a1 = dense(xnorm_in,w1,b1)\n",
    "    a2 = dense(a1,w2,b2)       # using a1 output of layer1 as input for layer 2\n",
    "    return a2"
   ]
  },
  {
   "cell_type": "markdown",
   "id": "7cc62768",
   "metadata": {},
   "source": [
    "copy trained weights and biases from the previous lab in Tensorflow."
   ]
  },
  {
   "cell_type": "code",
   "execution_count": 7,
   "id": "2f9f2663",
   "metadata": {},
   "outputs": [],
   "source": [
    "W1_tmp = np.array( [[-8.93,  0.29, 12.9 ], [-0.1,  -7.32, 10.81]] )\n",
    "b1_tmp = np.array( [-9.82, -9.28,  0.96] )\n",
    "W2_tmp = np.array( [[-31.18], [-27.59], [-32.56]] )\n",
    "b2_tmp = np.array( [15.41] )"
   ]
  },
  {
   "cell_type": "markdown",
   "id": "c1dc3cd6",
   "metadata": {},
   "source": [
    "### predictions"
   ]
  },
  {
   "cell_type": "code",
   "execution_count": 8,
   "id": "e912c644",
   "metadata": {},
   "outputs": [],
   "source": [
    "def prediction(x,w1,b1,w2,b2):\n",
    "    m = x.shape[0]\n",
    "    y_hat = np.zeros((m,1))\n",
    "    for i in range(m):\n",
    "        y_hat[i] = sequential(x[i],w1,b1,w2,b2)\n",
    "        return y_hat"
   ]
  },
  {
   "cell_type": "code",
   "execution_count": 9,
   "id": "f6f648e1",
   "metadata": {},
   "outputs": [],
   "source": [
    "# test \n",
    "X_tst = np.array([\n",
    "    [200,13.9],  # postive example\n",
    "    [200,17]])   # negative example\n",
    "xtest_norm = norm_layer(X_tst) # normalizing test values using normalization layer\n",
    "prediction = prediction(xtest_norm,W1_tmp,W2_tmp,b1_tmp,b2_tmp)"
   ]
  },
  {
   "cell_type": "code",
   "execution_count": 11,
   "id": "a5316ab1",
   "metadata": {},
   "outputs": [],
   "source": [
    "y_hat = np.zeros_like(prediction)\n",
    "for i in range(len(prediction)):\n",
    "    if prediction[i] >= 0.5:\n",
    "        y_hat[i] = 1\n",
    "    else:\n",
    "        y_hat[i] = 0"
   ]
  },
  {
   "cell_type": "code",
   "execution_count": 13,
   "id": "fd45229e",
   "metadata": {},
   "outputs": [
    {
     "data": {
      "text/plain": [
       "array([[1.],\n",
       "       [0.]])"
      ]
     },
     "execution_count": 13,
     "metadata": {},
     "output_type": "execute_result"
    }
   ],
   "source": [
    "y_hat"
   ]
  },
  {
   "cell_type": "code",
   "execution_count": null,
   "id": "647e26f9",
   "metadata": {},
   "outputs": [],
   "source": []
  }
 ],
 "metadata": {
  "kernelspec": {
   "display_name": "testgpu",
   "language": "python",
   "name": "testgpu"
  },
  "language_info": {
   "codemirror_mode": {
    "name": "ipython",
    "version": 3
   },
   "file_extension": ".py",
   "mimetype": "text/x-python",
   "name": "python",
   "nbconvert_exporter": "python",
   "pygments_lexer": "ipython3",
   "version": "3.10.11"
  }
 },
 "nbformat": 4,
 "nbformat_minor": 5
}
